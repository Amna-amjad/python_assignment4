{
 "cells": [
  {
   "cell_type": "code",
   "execution_count": null,
   "id": "3e4488eb-d287-466e-9f6d-7191e176c37a",
   "metadata": {},
   "outputs": [],
   "source": [
    "#Q1. Write program to check a person’s eligibility for a loan based on age, credit score, and income.\n",
    "#This time, the eligibility criteria will be:\n",
    "#The person must be 18 years or older. The person must have a credit score of 650 or higher.\n",
    "#The person must have an annual income of at least 30000 dollars If the person has a credit score of 700 or higher,\n",
    "#they may still be eligible with an income of 25000 dollars or more."
   ]
  },
  {
   "cell_type": "code",
   "execution_count": 4,
   "id": "5dd47334-dae4-4f17-b0cc-293a5a89275f",
   "metadata": {},
   "outputs": [
    {
     "name": "stdin",
     "output_type": "stream",
     "text": [
      "Enter age:  23\n",
      "Enter credit score:  800\n",
      "Enter annual income:  30000\n"
     ]
    },
    {
     "name": "stdout",
     "output_type": "stream",
     "text": [
      "Eligible for loan.\n"
     ]
    }
   ],
   "source": [
    "def check_loan_eligibility(age, credit_score, annual_income):\n",
    "    if age < 18:\n",
    "        return \"Not eligible: Must be 18 or older.\"\n",
    "    if credit_score >= 700 and annual_income >= 25000:\n",
    "        return \"Eligible for loan.\"\n",
    "    if credit_score >= 650 and annual_income >= 30000:\n",
    "        return \"Eligible for loan.\"\n",
    "    return \"Not eligible: Does not meet credit score and income criteria.\"\n",
    "\n",
    "age = int(input(\"Enter age: \"))\n",
    "credit_score = int(input(\"Enter credit score: \"))\n",
    "annual_income = float(input(\"Enter annual income: \"))\n",
    "\n",
    "result = check_loan_eligibility(age, credit_score, annual_income)\n",
    "print(result)\n"
   ]
  },
  {
   "cell_type": "code",
   "execution_count": null,
   "id": "e842342d-be56-45e9-bc9d-f45e9a13a375",
   "metadata": {},
   "outputs": [],
   "source": [
    "#Q2. Write a Python program that checks if a person is an adult (age ≥ 18).\n",
    "#Take the age as input.\n",
    "#If the person is underage (age < 18), show message: \"You are underage\" and don't ask for experience.\n",
    "#If the person is an adult, take years of experience as input and print:\n",
    "#\"You have a lot of experience.\" (10+ years)\n",
    "#\"You have moderate experience.\" (5-9 years)\n",
    "#\"You are relatively new.\" (2-4 years)\n",
    "#\"You are just starting out.\" (less than 2 years)"
   ]
  },
  {
   "cell_type": "code",
   "execution_count": 14,
   "id": "dee3c089-3276-47a5-b50b-197744a35344",
   "metadata": {},
   "outputs": [
    {
     "name": "stdin",
     "output_type": "stream",
     "text": [
      "Enter your age:  20\n",
      "Enter your years of experience:  15\n"
     ]
    },
    {
     "name": "stdout",
     "output_type": "stream",
     "text": [
      "You have a lot of experience.\n"
     ]
    }
   ],
   "source": [
    "def check_adulthood_and_experience():\n",
    "    age = int(input(\"Enter your age: \"))\n",
    "    \n",
    "    if age < 18:\n",
    "        print(\"You are underage.\")\n",
    "    else:\n",
    "        experience = int(input(\"Enter your years of experience: \"))\n",
    "        \n",
    "        if experience >= 10:\n",
    "            print(\"You have a lot of experience.\")\n",
    "        elif 5 <= experience <= 9:\n",
    "            print(\"You have moderate experience.\")\n",
    "        elif 2 <= experience <= 4:\n",
    "            print(\"You are relatively new.\")\n",
    "        else:\n",
    "            print(\"You are just starting out.\")\n",
    "\n",
    "check_adulthood_and_experience()\n"
   ]
  },
  {
   "cell_type": "code",
   "execution_count": null,
   "id": "4e69d9e9-96d7-4ab5-95ae-22b01f143dcb",
   "metadata": {},
   "outputs": [],
   "source": [
    "#Q3. Write a program to explore below variables\n",
    "#a) Print their memory address (to check if python assigns same address of different variables having same element)\n",
    "#b) Find memory size and append them in a list, use this list to find data type having least memory size\n",
    "#c) Print final name of data type which has lowest memory\n",
    "#Result will help a programmer to decide which variable is storing less memory and variable locations\n"
   ]
  },
  {
   "cell_type": "code",
   "execution_count": 16,
   "id": "b6ef94b5-b407-4906-bcf4-31acdfc1e6ca",
   "metadata": {},
   "outputs": [
    {
     "name": "stdout",
     "output_type": "stream",
     "text": [
      "Variable Analysis:\n",
      "\n",
      "Variable: int_var\n",
      "  Type: int\n",
      "  Memory Address: 140719657396952\n",
      "  Memory Size: 28 bytes\n",
      "\n",
      "Variable: float_var\n",
      "  Type: float\n",
      "  Memory Address: 1513837891856\n",
      "  Memory Size: 24 bytes\n",
      "\n",
      "Variable: str_var\n",
      "  Type: str\n",
      "  Memory Address: 1513838981552\n",
      "  Memory Size: 46 bytes\n",
      "\n",
      "Variable: list_var\n",
      "  Type: list\n",
      "  Memory Address: 1513855867328\n",
      "  Memory Size: 88 bytes\n",
      "\n",
      "Variable: tuple_var\n",
      "  Type: tuple\n",
      "  Memory Address: 1513815482880\n",
      "  Memory Size: 64 bytes\n",
      "\n",
      "Variable: dict_var\n",
      "  Type: dict\n",
      "  Memory Address: 1513815489408\n",
      "  Memory Size: 184 bytes\n",
      "\n",
      "Variable: set_var\n",
      "  Type: set\n",
      "  Memory Address: 1513838688992\n",
      "  Memory Size: 216 bytes\n",
      "\n",
      "Variable: bool_var\n",
      "  Type: bool\n",
      "  Memory Address: 140719656270720\n",
      "  Memory Size: 28 bytes\n",
      "\n",
      "The data type with the least memory size is: float\n"
     ]
    }
   ],
   "source": [
    "import sys\n",
    "\n",
    "def explore_variables():\n",
    "    # Create variables of different types\n",
    "    variables = {\n",
    "        \"int_var\": 10,\n",
    "        \"float_var\": 10.5,\n",
    "        \"str_var\": \"Hello\",\n",
    "        \"list_var\": [1, 2, 3],\n",
    "        \"tuple_var\": (1, 2, 3),\n",
    "        \"dict_var\": {\"key\": \"value\"},\n",
    "        \"set_var\": {1, 2, 3},\n",
    "        \"bool_var\": True\n",
    "    }\n",
    "\n",
    "    memory_sizes = []  \n",
    "\n",
    "    print(\"Variable Analysis:\\n\")\n",
    "    for name, value in variables.items():\n",
    "        memory_address = id(value)\n",
    "        memory_size = sys.getsizeof(value)\n",
    "        memory_sizes.append((name, type(value).__name__, memory_size))\n",
    "\n",
    "        print(f\"Variable: {name}\")\n",
    "        print(f\"  Type: {type(value).__name__}\")\n",
    "        print(f\"  Memory Address: {memory_address}\")\n",
    "        print(f\"  Memory Size: {memory_size} bytes\\n\")\n",
    "\n",
    "    smallest_memory_variable = min(memory_sizes, key=lambda x: x[2])\n",
    "    smallest_memory_type = smallest_memory_variable[1]\n",
    "\n",
    "    print(f\"The data type with the least memory size is: {smallest_memory_type}\")\n",
    "\n",
    "explore_variables()\n"
   ]
  },
  {
   "cell_type": "code",
   "execution_count": null,
   "id": "d0cdb3da-3971-4c24-952c-c91e903aff51",
   "metadata": {},
   "outputs": [],
   "source": [
    "#Q4. Write a Python program that asks the user to enter an email address.\n",
    "#The program should check if the email contains the characters @ and \".\" (ignoring case).\n",
    "#If either character is present, print \"Email format is valid.\" Otherwise, print \"Invalid email format.\""
   ]
  },
  {
   "cell_type": "code",
   "execution_count": 18,
   "id": "749c72bf-dc51-423d-bd19-9364f90283e7",
   "metadata": {},
   "outputs": [
    {
     "name": "stdin",
     "output_type": "stream",
     "text": [
      "Enter your email address:  amnakhan@gmail.com\n"
     ]
    },
    {
     "name": "stdout",
     "output_type": "stream",
     "text": [
      "Email format is valid.\n"
     ]
    }
   ],
   "source": [
    "def validate_email():\n",
    "    email = input(\"Enter your email address: \").strip()\n",
    "\n",
    "    if '@' in email and '.' in email:\n",
    "        print(\"Email format is valid.\")\n",
    "    else:\n",
    "        print(\"Invalid email format.\")\n",
    "\n",
    "validate_email()\n"
   ]
  },
  {
   "cell_type": "code",
   "execution_count": null,
   "id": "3e8a66a4-3506-41e5-9445-363eb4b10d0b",
   "metadata": {},
   "outputs": [],
   "source": [
    "#Q5. Write a python program to know data type of each element stored in a tuple, append the data types in a list.\n",
    "#Show final output in a list as data types of tuple elements\n",
    "#x = (11,22.333,'apple',[1,2,3],('a','b'))"
   ]
  },
  {
   "cell_type": "code",
   "execution_count": 20,
   "id": "f0c56ac8-ae81-44a4-85bb-92c2747ca961",
   "metadata": {},
   "outputs": [
    {
     "name": "stdout",
     "output_type": "stream",
     "text": [
      "Data types of tuple elements: ['int', 'float', 'str', 'list', 'tuple']\n"
     ]
    }
   ],
   "source": [
    "def get_tuple_element_types(x):\n",
    "    data_types = [type(element).__name__ for element in x]\n",
    "    return data_types\n",
    "x = (11, 22.333, 'apple', [1, 2, 3], ('a', 'b'))\n",
    "result = get_tuple_element_types(x)\n",
    "print(\"Data types of tuple elements:\", result)"
   ]
  },
  {
   "cell_type": "code",
   "execution_count": null,
   "id": "d41331fc-640d-4794-8422-57936ed23fe1",
   "metadata": {},
   "outputs": [],
   "source": [
    "#Q6. Write a Python program that:\n",
    "#Checks if a given username exists in a list of active users.\n",
    "#Verifies if the user is the admin using identity operators.\n",
    "#Hints:\n",
    "#Use a list of tuples where each tuple contains a username and role\n",
    "#[(\"alice\", \"admin\"),\n",
    "#(\"bob\", \"user\"),\n",
    "#(\"charlie\", \"moderator\")]\n",
    "#Use the in operator to check if the username exists in the list.\n",
    "#Use the is operator to check if the user is the admin (admin is a specific reference, e.g., (\"alice\", \"admin\"))."
   ]
  },
  {
   "cell_type": "code",
   "execution_count": 26,
   "id": "25ca4f7d-1653-4a4b-be48-85fc44b0cc67",
   "metadata": {},
   "outputs": [
    {
     "name": "stdin",
     "output_type": "stream",
     "text": [
      "Enter the username to check:  alice\n"
     ]
    },
    {
     "name": "stdout",
     "output_type": "stream",
     "text": [
      "User 'alice' is the admin.\n"
     ]
    }
   ],
   "source": [
    "def check_user(username):\n",
    "    active_users = [\n",
    "        (\"alice\", \"admin\"),\n",
    "        (\"bob\", \"user\"),\n",
    "        (\"charlie\", \"moderator\")\n",
    "    ]\n",
    "    \n",
    "    user_exists = any(user[0] == username for user in active_users)\n",
    "    \n",
    "    if not user_exists:\n",
    "        print(f\"User '{username}' does not exist.\")\n",
    "        return\n",
    "    \n",
    "    user_tuple = next(user for user in active_users if user[0] == username)\n",
    "    \n",
    "    if user_tuple == (\"alice\", \"admin\"):  \n",
    "        print(f\"User '{username}' is the admin.\")\n",
    "    else:\n",
    "        print(f\"User '{username}' exists but is not the admin.\")\n",
    "\n",
    "username_to_check = input(\"Enter the username to check: \").strip()\n",
    "check_user(username_to_check)\n"
   ]
  },
  {
   "cell_type": "code",
   "execution_count": null,
   "id": "95f543dd-0626-4db0-905f-616341944d3f",
   "metadata": {},
   "outputs": [],
   "source": [
    "#Q7. person1 has same family as of person2, write a program to print relation between person1 and person2,\n",
    "#if their data is ['father name','mother name','district','family number'] same (Print relation 'Siblings')\n",
    "#also check person1 data with person3 which is cousin of person1 (Print relation 'Cousin')\n",
    "#Hint:\n",
    "#Use identity operator"
   ]
  },
  {
   "cell_type": "code",
   "execution_count": 30,
   "id": "42dc0576-051e-4989-9eb4-335b0c9831f0",
   "metadata": {},
   "outputs": [
    {
     "name": "stdout",
     "output_type": "stream",
     "text": [
      "Relation between person1 and person2: Not Siblings\n",
      "Relation between person1 and person3: Cousins\n"
     ]
    }
   ],
   "source": [
    "def check_relationship(person1, person2, person3):\n",
    "    if person1 is person2:\n",
    "        print(\"Relation between person1 and person2: Siblings\")\n",
    "    else:\n",
    "        print(\"Relation between person1 and person2: Not Siblings\")\n",
    "\n",
    "    if person1[:-1] == person3[:-1] and person1[-1] != person3[-1]:\n",
    "        print(\"Relation between person1 and person3: Cousins\")\n",
    "    else:\n",
    "        print(\"Relation between person1 and person3: Not Cousins\")\n",
    "\n",
    "person1 = ['John Smith', 'Jane Smith', 'Springfield', 101]\n",
    "person2 = ['John Smith', 'Jane Smith', 'Springfield', 101]\n",
    "person3 = ['John Smith', 'Jane Smith', 'Springfield', 202]\n",
    "\n",
    "check_relationship(person1, person2, person3)"
   ]
  },
  {
   "cell_type": "code",
   "execution_count": null,
   "id": "240b5457-97c9-4cf8-86be-4f210d567887",
   "metadata": {},
   "outputs": [],
   "source": [
    "#Q8. Write a Python program to store and display a book's title, author, year of publication, and price using a tuple.\n",
    "#Instructions:\n",
    "#Create a tuple to store the book details.\n",
    "#Ask the user for the book's title, author, year, and price.\n",
    "#Display the stored book information."
   ]
  },
  {
   "cell_type": "code",
   "execution_count": 32,
   "id": "cda47a90-325c-4532-8ef0-075f191173ab",
   "metadata": {},
   "outputs": [
    {
     "name": "stdin",
     "output_type": "stream",
     "text": [
      "Enter the book's title:  Learning Python From Basic\n",
      "Enter the author's name:  Amna Khan\n",
      "Enter the year of publication:  2024\n",
      "Enter the price of the book:  1200\n"
     ]
    },
    {
     "name": "stdout",
     "output_type": "stream",
     "text": [
      "\n",
      "Stored Book Details:\n",
      "Title: Learning Python From Basic\n",
      "Author: Amna Khan\n",
      "Year: 2024\n",
      "Price: 1200\n"
     ]
    }
   ],
   "source": [
    "def store_and_display_book_details():\n",
    "    title = input(\"Enter the book's title: \").strip()\n",
    "    author = input(\"Enter the author's name: \").strip()\n",
    "    year = input(\"Enter the year of publication: \").strip()\n",
    "    price = input(\"Enter the price of the book: \").strip()\n",
    "\n",
    "    book_details = (title, author, year, price)\n",
    "\n",
    "    print(\"\\nStored Book Details:\")\n",
    "    print(f\"Title: {book_details[0]}\")\n",
    "    print(f\"Author: {book_details[1]}\")\n",
    "    print(f\"Year: {book_details[2]}\")\n",
    "    print(f\"Price: {book_details[3]}\")\n",
    "\n",
    "store_and_display_book_details()"
   ]
  },
  {
   "cell_type": "code",
   "execution_count": null,
   "id": "1c2d5470-9ddc-4ccf-a15f-9fcfdcbc1ac2",
   "metadata": {},
   "outputs": [],
   "source": [
    "#Q9. Write a program to check if a user’s chosen subject is available in the list of offered subjects.\n",
    "#Instructions:\n",
    "#Given a list of subjects, ask the user to input a subject.\n",
    "#Display whether the subject is available or not."
   ]
  },
  {
   "cell_type": "code",
   "execution_count": 36,
   "id": "a75d8179-4439-42d6-9ac4-7ef00123cdc4",
   "metadata": {},
   "outputs": [
    {
     "name": "stdin",
     "output_type": "stream",
     "text": [
      "Enter the subject you want to check:  Physics\n"
     ]
    },
    {
     "name": "stdout",
     "output_type": "stream",
     "text": [
      "The subject 'Physics' is available.\n"
     ]
    }
   ],
   "source": [
    "def check_subject_availability():\n",
    "    offered_subjects = [\"Mathematics\", \"Physics\", \"Chemistry\", \"Biology\", \"Computer Science\", \"History\", \"Geography\", \"Economics\"]\n",
    "    \n",
    "    user_subject = input(\"Enter the subject you want to check: \").strip()\n",
    "\n",
    "    if user_subject in offered_subjects:\n",
    "        print(f\"The subject '{user_subject}' is available.\")\n",
    "    else:\n",
    "        print(f\"The subject '{user_subject}' is not available.\")\n",
    "\n",
    "check_subject_availability()\n"
   ]
  },
  {
   "cell_type": "code",
   "execution_count": null,
   "id": "06b4b266-81d4-4db2-adf1-2b78d0c46d9c",
   "metadata": {},
   "outputs": [],
   "source": [
    "#Q10. Write a Python program that performs the following tasks using tuple methods\n",
    "#Create a tuple with multiple integer values, including duplicates.\n",
    "#Prompt the user to input a number and find the index of its first occurrence in the tuple.\n",
    "#Ask the user for another number and count how many times it appears in the tuple.\n",
    "#Display appropriate messages based on the results"
   ]
  },
  {
   "cell_type": "code",
   "execution_count": 38,
   "id": "a6bb9eaa-9672-4fae-ae93-8bc7364b9ebd",
   "metadata": {},
   "outputs": [
    {
     "name": "stdin",
     "output_type": "stream",
     "text": [
      "Enter a number to find its first occurrence:  1\n"
     ]
    },
    {
     "name": "stdout",
     "output_type": "stream",
     "text": [
      "The first occurrence of 1 is at index: 0\n"
     ]
    },
    {
     "name": "stdin",
     "output_type": "stream",
     "text": [
      "Enter another number to count its occurrences:  4\n"
     ]
    },
    {
     "name": "stdout",
     "output_type": "stream",
     "text": [
      "The number 4 appears 1 time(s) in the tuple.\n"
     ]
    }
   ],
   "source": [
    "def tuple_operations():\n",
    "    numbers = (1, 2, 3, 4, 2, 5, 1, 3, 2, 6, 1)\n",
    "\n",
    "    first_number = int(input(\"Enter a number to find its first occurrence: \"))\n",
    "    \n",
    "    if first_number in numbers:\n",
    "        index = numbers.index(first_number)\n",
    "        print(f\"The first occurrence of {first_number} is at index: {index}\")\n",
    "    else:\n",
    "        print(f\"The number {first_number} is not found in the tuple.\")\n",
    "\n",
    "    second_number = int(input(\"Enter another number to count its occurrences: \"))\n",
    "    \n",
    "    count = numbers.count(second_number)\n",
    "    if count > 0:\n",
    "        print(f\"The number {second_number} appears {count} time(s) in the tuple.\")\n",
    "    else:\n",
    "        print(f\"The number {second_number} does not appear in the tuple.\")\n",
    "\n",
    "tuple_operations()\n"
   ]
  }
 ],
 "metadata": {
  "kernelspec": {
   "display_name": "Python 3 (ipykernel)",
   "language": "python",
   "name": "python3"
  },
  "language_info": {
   "codemirror_mode": {
    "name": "ipython",
    "version": 3
   },
   "file_extension": ".py",
   "mimetype": "text/x-python",
   "name": "python",
   "nbconvert_exporter": "python",
   "pygments_lexer": "ipython3",
   "version": "3.12.7"
  }
 },
 "nbformat": 4,
 "nbformat_minor": 5
}
